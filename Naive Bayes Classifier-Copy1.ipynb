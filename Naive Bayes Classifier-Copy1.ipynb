{
 "cells": [
  {
   "cell_type": "markdown",
   "id": "stable-secondary",
   "metadata": {},
   "source": [
    "# Importing all the Libraries"
   ]
  },
  {
   "cell_type": "code",
   "execution_count": 229,
   "id": "standard-latino",
   "metadata": {},
   "outputs": [],
   "source": [
    "import os\n",
    "import pandas as pd\n",
    "import numpy as np\n",
    "import string\n",
    "from sklearn.feature_extraction.text import TfidfVectorizer\n",
    "from sklearn import preprocessing\n",
    "from sklearn import metrics\n",
    "from matplotlib import pyplot as plt\n",
    "from sklearn.feature_extraction.text import CountVectorizer\n",
    "from sklearn.feature_extraction.text import TfidfTransformer\n",
    "from sklearn.naive_bayes import MultinomialNB\n",
    "from sklearn.pipeline import Pipeline\n",
    "import warnings\n",
    "warnings.filterwarnings('ignore')\n"
   ]
  },
  {
   "cell_type": "markdown",
   "id": "medieval-bankruptcy",
   "metadata": {},
   "source": [
    "# Reading the data"
   ]
  },
  {
   "cell_type": "code",
   "execution_count": 230,
   "id": "technological-romania",
   "metadata": {},
   "outputs": [],
   "source": [
    "df1 = pd.read_excel(\n",
    "     os.path.join('Final_data_prepared.xlsx'),\n",
    "     engine='openpyxl',\n",
    ")"
   ]
  },
  {
   "cell_type": "code",
   "execution_count": 231,
   "id": "coated-chrome",
   "metadata": {},
   "outputs": [],
   "source": [
    "df1.drop(['Unnamed: 0'],axis=1,inplace=True)"
   ]
  },
  {
   "cell_type": "markdown",
   "id": "muslim-model",
   "metadata": {},
   "source": [
    "# Data Preprocessing"
   ]
  },
  {
   "cell_type": "markdown",
   "id": "confidential-justice",
   "metadata": {},
   "source": [
    "Removing the punctuations"
   ]
  },
  {
   "cell_type": "code",
   "execution_count": 232,
   "id": "grateful-execution",
   "metadata": {},
   "outputs": [],
   "source": [
    "def remove_punctuation(text):\n",
    "    '''Remove all the punctuations from a text.\n",
    "    \n",
    "    Input: a string or text data\n",
    "    Output: text without punctuations\n",
    "    '''\n",
    "    punctuationfree=\"\".join([i for i in text if i not in string.punctuation])\n",
    "    return punctuationfree\n",
    "#storing the puntuation free text\n",
    "df1['Leaf']= df1['Leaves'].apply(lambda x:remove_punctuation(x))\n",
    "df1['Description']= df1['new_column'].apply(lambda x:remove_punctuation(x))\n"
   ]
  },
  {
   "cell_type": "code",
   "execution_count": 233,
   "id": "norwegian-divide",
   "metadata": {},
   "outputs": [
    {
     "data": {
      "text/html": [
       "<div>\n",
       "<style scoped>\n",
       "    .dataframe tbody tr th:only-of-type {\n",
       "        vertical-align: middle;\n",
       "    }\n",
       "\n",
       "    .dataframe tbody tr th {\n",
       "        vertical-align: top;\n",
       "    }\n",
       "\n",
       "    .dataframe thead th {\n",
       "        text-align: right;\n",
       "    }\n",
       "</style>\n",
       "<table border=\"1\" class=\"dataframe\">\n",
       "  <thead>\n",
       "    <tr style=\"text-align: right;\">\n",
       "      <th></th>\n",
       "      <th>Leaves</th>\n",
       "      <th>new_column</th>\n",
       "      <th>Leaf</th>\n",
       "      <th>Description</th>\n",
       "    </tr>\n",
       "  </thead>\n",
       "  <tbody>\n",
       "    <tr>\n",
       "      <th>0</th>\n",
       "      <td>Patient Diaries'</td>\n",
       "      <td>ePRO and eCOA</td>\n",
       "      <td>Patient Diaries</td>\n",
       "      <td>ePRO and eCOA</td>\n",
       "    </tr>\n",
       "    <tr>\n",
       "      <th>1</th>\n",
       "      <td>Patient Diaries'</td>\n",
       "      <td>A single checkbox allows you to set either a c...</td>\n",
       "      <td>Patient Diaries</td>\n",
       "      <td>A single checkbox allows you to set either a c...</td>\n",
       "    </tr>\n",
       "    <tr>\n",
       "      <th>2</th>\n",
       "      <td>Patient Diaries'</td>\n",
       "      <td>And  your ePRO data is HIPAA compliant and ful...</td>\n",
       "      <td>Patient Diaries</td>\n",
       "      <td>And  your ePRO data is HIPAA compliant and ful...</td>\n",
       "    </tr>\n",
       "    <tr>\n",
       "      <th>3</th>\n",
       "      <td>Patient Diaries'</td>\n",
       "      <td>Deploy an ePRO experience with images  video  ...</td>\n",
       "      <td>Patient Diaries</td>\n",
       "      <td>Deploy an ePRO experience with images  video  ...</td>\n",
       "    </tr>\n",
       "    <tr>\n",
       "      <th>4</th>\n",
       "      <td>Patient Diaries'</td>\n",
       "      <td>From patient friendly ePRO to system interoper...</td>\n",
       "      <td>Patient Diaries</td>\n",
       "      <td>From patient friendly ePRO to system interoper...</td>\n",
       "    </tr>\n",
       "  </tbody>\n",
       "</table>\n",
       "</div>"
      ],
      "text/plain": [
       "             Leaves                                         new_column  \\\n",
       "0  Patient Diaries'                                     ePRO and eCOA    \n",
       "1  Patient Diaries'  A single checkbox allows you to set either a c...   \n",
       "2  Patient Diaries'  And  your ePRO data is HIPAA compliant and ful...   \n",
       "3  Patient Diaries'  Deploy an ePRO experience with images  video  ...   \n",
       "4  Patient Diaries'  From patient friendly ePRO to system interoper...   \n",
       "\n",
       "              Leaf                                        Description  \n",
       "0  Patient Diaries                                     ePRO and eCOA   \n",
       "1  Patient Diaries  A single checkbox allows you to set either a c...  \n",
       "2  Patient Diaries  And  your ePRO data is HIPAA compliant and ful...  \n",
       "3  Patient Diaries  Deploy an ePRO experience with images  video  ...  \n",
       "4  Patient Diaries  From patient friendly ePRO to system interoper...  "
      ]
     },
     "execution_count": 233,
     "metadata": {},
     "output_type": "execute_result"
    }
   ],
   "source": [
    "df1.head()"
   ]
  },
  {
   "cell_type": "code",
   "execution_count": 234,
   "id": "desperate-arrest",
   "metadata": {},
   "outputs": [],
   "source": [
    "df1.drop(['Leaves','new_column'],axis=1,inplace=True)"
   ]
  },
  {
   "cell_type": "markdown",
   "id": "refined-yacht",
   "metadata": {},
   "source": [
    "Lowering the text"
   ]
  },
  {
   "cell_type": "code",
   "execution_count": 235,
   "id": "extensive-olympus",
   "metadata": {},
   "outputs": [],
   "source": [
    "def lower_text(text):\n",
    "    ''' Convert all the characters of a string to lowercase\n",
    "    \n",
    "    Input: a string or text data\n",
    "    Output: a lowercased string\n",
    "    '''\n",
    "    return text.lower()\n",
    "df1['Description']= df1['Description'].apply(lambda x: lower_text(x))   "
   ]
  },
  {
   "cell_type": "markdown",
   "id": "sized-revelation",
   "metadata": {},
   "source": [
    "Tokenization"
   ]
  },
  {
   "cell_type": "code",
   "execution_count": 236,
   "id": "dense-onion",
   "metadata": {},
   "outputs": [],
   "source": [
    "import re\n",
    "def tokenization(text):\n",
    "    '''convert the string into list of strings calles tokens\n",
    "    \n",
    "    Input: a string or text data\n",
    "    Output: tokenized list\n",
    "    '''\n",
    "    tokens = text.split(' ')\n",
    "    return tokens\n",
    "df1['Description_']= df1['Description'].apply(lambda x: tokenization(x))"
   ]
  },
  {
   "cell_type": "markdown",
   "id": "cathedral-anthropology",
   "metadata": {},
   "source": [
    "Remove empty strings from list"
   ]
  },
  {
   "cell_type": "code",
   "execution_count": 237,
   "id": "fossil-consortium",
   "metadata": {},
   "outputs": [],
   "source": [
    "def remove_empty(list_tokens):\n",
    "    '''Removes the empty element from a list.\n",
    "    \n",
    "    Input: a list of strings\n",
    "    Output: list without empty strings\n",
    "    '''\n",
    "    str_list = list(filter(None, list_tokens))\n",
    "    return str_list\n",
    "df1['Description']= df1['Description_'].apply(lambda x: remove_empty(x))   "
   ]
  },
  {
   "cell_type": "code",
   "execution_count": 238,
   "id": "opened-pharmacy",
   "metadata": {},
   "outputs": [],
   "source": [
    "df1=df1[['Leaf','Description']]"
   ]
  },
  {
   "cell_type": "markdown",
   "id": "developed-surname",
   "metadata": {},
   "source": [
    "Removing stop words"
   ]
  },
  {
   "cell_type": "code",
   "execution_count": 239,
   "id": "collected-legislation",
   "metadata": {},
   "outputs": [
    {
     "data": {
      "text/plain": [
       "['i', 'me', 'my', 'myself', 'we', 'our', 'ours', 'ourselves', 'you', \"you're\"]"
      ]
     },
     "execution_count": 239,
     "metadata": {},
     "output_type": "execute_result"
    }
   ],
   "source": [
    "import nltk\n",
    "stopwords = nltk.corpus.stopwords.words('english')\n",
    "stopwords[0:10]\n"
   ]
  },
  {
   "cell_type": "code",
   "execution_count": 240,
   "id": "processed-klein",
   "metadata": {},
   "outputs": [],
   "source": [
    "def remove_stopwords(list_tokens):\n",
    "    '''Removes all the stopwords present in a list of strings\n",
    "    \n",
    "    Input: a list of strings\n",
    "    Output: a list of strings without any  stopwords\n",
    "    '''\n",
    "    output= [i for i in list_tokens if i not in stopwords]\n",
    "    return output"
   ]
  },
  {
   "cell_type": "code",
   "execution_count": 241,
   "id": "settled-century",
   "metadata": {},
   "outputs": [],
   "source": [
    "df1['Description']= df1['Description'].apply(lambda x:remove_stopwords(x))\n"
   ]
  },
  {
   "cell_type": "markdown",
   "id": "peripheral-elizabeth",
   "metadata": {},
   "source": [
    "Lemmetization on description column"
   ]
  },
  {
   "cell_type": "code",
   "execution_count": 242,
   "id": "latin-oklahoma",
   "metadata": {},
   "outputs": [],
   "source": [
    "from nltk.stem import WordNetLemmatizer\n",
    "wordnet_lemmatizer = WordNetLemmatizer()"
   ]
  },
  {
   "cell_type": "code",
   "execution_count": 243,
   "id": "impressed-native",
   "metadata": {},
   "outputs": [],
   "source": [
    "def lemmatizer(list_tokens):\n",
    "    '''convert the strings in a list into lemetized strings\n",
    "    \n",
    "    Input: a list of strings\n",
    "    Output: a lemetized list of strings \n",
    "    '''\n",
    "    lemm_text = [wordnet_lemmatizer.lemmatize(word) for word in list_tokens]\n",
    "    return lemm_text\n",
    "df1['Description']=df1['Description'].apply(lambda x:lemmatizer(x))"
   ]
  },
  {
   "cell_type": "markdown",
   "id": "middle-witch",
   "metadata": {},
   "source": [
    "Join the text list into one single string"
   ]
  },
  {
   "cell_type": "code",
   "execution_count": 244,
   "id": "opened-thesis",
   "metadata": {},
   "outputs": [],
   "source": [
    "def join_text(token_list):\n",
    "    '''convert the list of strings into a single string\n",
    "    \n",
    "    Input: a list of strings\n",
    "    Output: a joined single string from all the strings in a list \n",
    "    '''\n",
    "    \n",
    "    return \" \".join(token_list)\n",
    "df1['Description']=df1['Description'].apply(lambda x:join_text(x))"
   ]
  },
  {
   "cell_type": "markdown",
   "id": "married-chocolate",
   "metadata": {},
   "source": [
    "Droping the duplicates"
   ]
  },
  {
   "cell_type": "code",
   "execution_count": 245,
   "id": "improving-drive",
   "metadata": {},
   "outputs": [
    {
     "data": {
      "text/html": [
       "<div>\n",
       "<style scoped>\n",
       "    .dataframe tbody tr th:only-of-type {\n",
       "        vertical-align: middle;\n",
       "    }\n",
       "\n",
       "    .dataframe tbody tr th {\n",
       "        vertical-align: top;\n",
       "    }\n",
       "\n",
       "    .dataframe thead th {\n",
       "        text-align: right;\n",
       "    }\n",
       "</style>\n",
       "<table border=\"1\" class=\"dataframe\">\n",
       "  <thead>\n",
       "    <tr style=\"text-align: right;\">\n",
       "      <th></th>\n",
       "      <th>Leaf</th>\n",
       "      <th>Description</th>\n",
       "    </tr>\n",
       "  </thead>\n",
       "  <tbody>\n",
       "    <tr>\n",
       "      <th>0</th>\n",
       "      <td>Patient Diaries</td>\n",
       "      <td>epro ecoa</td>\n",
       "    </tr>\n",
       "    <tr>\n",
       "      <th>1</th>\n",
       "      <td>Patient Diaries</td>\n",
       "      <td>single checkbox allows set either clinician ba...</td>\n",
       "    </tr>\n",
       "    <tr>\n",
       "      <th>2</th>\n",
       "      <td>Patient Diaries</td>\n",
       "      <td>epro data hipaa compliant fully auditable</td>\n",
       "    </tr>\n",
       "    <tr>\n",
       "      <th>3</th>\n",
       "      <td>Patient Diaries</td>\n",
       "      <td>deploy epro experience image video visual anal...</td>\n",
       "    </tr>\n",
       "    <tr>\n",
       "      <th>4</th>\n",
       "      <td>Patient Diaries</td>\n",
       "      <td>patient friendly epro system interoperability ...</td>\n",
       "    </tr>\n",
       "    <tr>\n",
       "      <th>...</th>\n",
       "      <td>...</td>\n",
       "      <td>...</td>\n",
       "    </tr>\n",
       "    <tr>\n",
       "      <th>365</th>\n",
       "      <td>Biostatistics</td>\n",
       "      <td>adaptive clinical trial design expert clinical...</td>\n",
       "    </tr>\n",
       "    <tr>\n",
       "      <th>366</th>\n",
       "      <td>Biostatistics</td>\n",
       "      <td>biostatistic service</td>\n",
       "    </tr>\n",
       "    <tr>\n",
       "      <th>367</th>\n",
       "      <td>Biostatistics</td>\n",
       "      <td>biostatistics programming analysis</td>\n",
       "    </tr>\n",
       "    <tr>\n",
       "      <th>368</th>\n",
       "      <td>Biostatistics</td>\n",
       "      <td>biostatistics biostatistic service medical wri...</td>\n",
       "    </tr>\n",
       "    <tr>\n",
       "      <th>369</th>\n",
       "      <td>Biostatistics</td>\n",
       "      <td>eclipse one highly educated biostatistics depa...</td>\n",
       "    </tr>\n",
       "  </tbody>\n",
       "</table>\n",
       "<p>370 rows × 2 columns</p>\n",
       "</div>"
      ],
      "text/plain": [
       "                Leaf                                        Description\n",
       "0    Patient Diaries                                          epro ecoa\n",
       "1    Patient Diaries  single checkbox allows set either clinician ba...\n",
       "2    Patient Diaries          epro data hipaa compliant fully auditable\n",
       "3    Patient Diaries  deploy epro experience image video visual anal...\n",
       "4    Patient Diaries  patient friendly epro system interoperability ...\n",
       "..               ...                                                ...\n",
       "365    Biostatistics  adaptive clinical trial design expert clinical...\n",
       "366    Biostatistics                               biostatistic service\n",
       "367    Biostatistics                 biostatistics programming analysis\n",
       "368    Biostatistics  biostatistics biostatistic service medical wri...\n",
       "369    Biostatistics  eclipse one highly educated biostatistics depa...\n",
       "\n",
       "[370 rows x 2 columns]"
      ]
     },
     "execution_count": 245,
     "metadata": {},
     "output_type": "execute_result"
    }
   ],
   "source": [
    "df1=df1.drop_duplicates(keep='first',inplace=False).reset_index(drop=True)\n",
    "df1"
   ]
  },
  {
   "cell_type": "code",
   "execution_count": null,
   "id": "strange-philippines",
   "metadata": {},
   "outputs": [],
   "source": []
  },
  {
   "cell_type": "markdown",
   "id": "listed-vulnerability",
   "metadata": {},
   "source": [
    "Lable Encoding"
   ]
  },
  {
   "cell_type": "code",
   "execution_count": 246,
   "id": "historic-programming",
   "metadata": {},
   "outputs": [],
   "source": [
    "le = preprocessing.LabelEncoder()\n",
    "df1['Leaf'] = le.fit_transform(df1.Leaf.values)"
   ]
  },
  {
   "cell_type": "code",
   "execution_count": null,
   "id": "hearing-packet",
   "metadata": {},
   "outputs": [],
   "source": []
  },
  {
   "cell_type": "markdown",
   "id": "regional-thirty",
   "metadata": {},
   "source": [
    "Data Segregation"
   ]
  },
  {
   "cell_type": "code",
   "execution_count": 247,
   "id": "outdoor-seattle",
   "metadata": {},
   "outputs": [],
   "source": [
    "X=df1['Description']"
   ]
  },
  {
   "cell_type": "code",
   "execution_count": 248,
   "id": "thousand-gabriel",
   "metadata": {},
   "outputs": [],
   "source": [
    "y=df1['Leaf']"
   ]
  },
  {
   "cell_type": "markdown",
   "id": "civil-agency",
   "metadata": {},
   "source": [
    "Using Cross Validation to split the data"
   ]
  },
  {
   "cell_type": "code",
   "execution_count": 249,
   "id": "several-stream",
   "metadata": {},
   "outputs": [],
   "source": [
    "from sklearn.model_selection import StratifiedKFold\n"
   ]
  },
  {
   "cell_type": "code",
   "execution_count": 250,
   "id": "photographic-steal",
   "metadata": {},
   "outputs": [],
   "source": [
    "text_clf = Pipeline([\n",
    "    ('vect', TfidfVectorizer(max_features=100)),\n",
    "    ('clf', MultinomialNB()),\n",
    "])"
   ]
  },
  {
   "cell_type": "markdown",
   "id": "broad-flour",
   "metadata": {},
   "source": [
    "# Applying Naive Bayes Classifer"
   ]
  },
  {
   "cell_type": "code",
   "execution_count": 251,
   "id": "lesser-drain",
   "metadata": {},
   "outputs": [
    {
     "name": "stdout",
     "output_type": "stream",
     "text": [
      "We got an accuracy of 83.78378378378379 % over the test data.\n",
      "precision  0.8096436957917034\n",
      "recall  0.8378378378378378\n",
      "-------------------------------------------------------------------\n",
      "We got an accuracy of 78.37837837837837 % over the test data.\n",
      "precision  0.7431829150579151\n",
      "recall  0.7837837837837838\n",
      "-------------------------------------------------------------------\n",
      "We got an accuracy of 75.67567567567568 % over the test data.\n",
      "precision  0.7279006279006279\n",
      "recall  0.7567567567567568\n",
      "-------------------------------------------------------------------\n",
      "We got an accuracy of 81.08108108108108 % over the test data.\n",
      "precision  0.8020198580543408\n",
      "recall  0.8108108108108109\n",
      "-------------------------------------------------------------------\n",
      "We got an accuracy of 79.72972972972973 % over the test data.\n",
      "precision  0.7747638962060214\n",
      "recall  0.7972972972972973\n",
      "-------------------------------------------------------------------\n"
     ]
    }
   ],
   "source": [
    "skf = StratifiedKFold(n_splits=5,random_state=1,shuffle=True)\n",
    "accuracy=[]\n",
    "precision=[]\n",
    "recall=[]\n",
    "curr_max=0\n",
    "for train_index,test_index in skf.split(X,y):\n",
    "#     print(\"Train:\",train_index,'Test:',test_index)\n",
    "    X_train,X_test = X[train_index], X[test_index]\n",
    "    y_train,y_test = y[train_index], y[test_index]\n",
    "    text_clf.fit(X_train, y_train)\n",
    "    docs_test = X_test\n",
    "    predicted = text_clf.predict(docs_test)\n",
    "    accuracy.append(np.mean(predicted == y_test)*100)\n",
    "    if curr_max<np.mean(predicted == y_test)*100:\n",
    "        curr_max=np.mean(predicted == y_test)*100\n",
    "        y_test_max=y_test\n",
    "        y_pred_max=predicted\n",
    "    precision.append(metrics.precision_score(y_test, predicted, pos_label=1,average='weighted'))\n",
    "    recall.append(metrics.recall_score(y_test, predicted, pos_label=1,average='weighted'))\n",
    "    print('We got an accuracy of',np.mean(predicted == y_test)*100, '% over the test data.')\n",
    "    print('precision ',metrics.precision_score(y_test, predicted, pos_label=1,average='weighted'))\n",
    "    print('recall ',metrics.recall_score(y_test, predicted, pos_label=1,average='weighted'))\n",
    "    print('-------------------------------------------------------------------')\n"
   ]
  },
  {
   "cell_type": "code",
   "execution_count": 252,
   "id": "cathedral-validation",
   "metadata": {},
   "outputs": [
    {
     "name": "stdout",
     "output_type": "stream",
     "text": [
      "Overall Accuracy  79.72972972972973\n",
      "Overall precision  77.15021986021218\n",
      "Overall recall  79.72972972972973\n"
     ]
    }
   ],
   "source": [
    "print('Overall Accuracy ',sum(accuracy)/len(accuracy))\n",
    "print('Overall precision ',(sum(precision)/len(precision))*100)\n",
    "print('Overall recall ',(sum(recall)/len(recall)*100))"
   ]
  },
  {
   "cell_type": "markdown",
   "id": "friendly-anaheim",
   "metadata": {},
   "source": [
    "# Confusion Matrix"
   ]
  },
  {
   "cell_type": "code",
   "execution_count": 253,
   "id": "dried-walker",
   "metadata": {},
   "outputs": [],
   "source": [
    "from sklearn.metrics import confusion_matrix\n"
   ]
  },
  {
   "cell_type": "code",
   "execution_count": 254,
   "id": "binary-party",
   "metadata": {
    "scrolled": true
   },
   "outputs": [],
   "source": [
    "last_matrix = confusion_matrix(y_test,predicted, labels=[0,1,2,3,4,5])\n"
   ]
  },
  {
   "cell_type": "code",
   "execution_count": 255,
   "id": "ordinary-hardwood",
   "metadata": {},
   "outputs": [],
   "source": [
    "matrix = confusion_matrix(y_test_max,y_pred_max, labels=[0,1,2,3,4,5])\n"
   ]
  },
  {
   "cell_type": "code",
   "execution_count": 256,
   "id": "automatic-sequence",
   "metadata": {},
   "outputs": [
    {
     "data": {
      "text/plain": [
       "array(['Biostatistics', 'Clinical Support', 'Data Management',\n",
       "       'Medical Writing', 'Patient Diaries', 'Statistical Programming'],\n",
       "      dtype=object)"
      ]
     },
     "execution_count": 256,
     "metadata": {},
     "output_type": "execute_result"
    }
   ],
   "source": [
    "le.classes_"
   ]
  },
  {
   "cell_type": "code",
   "execution_count": 257,
   "id": "pleasant-bundle",
   "metadata": {},
   "outputs": [
    {
     "data": {
      "text/plain": [
       "<AxesSubplot:>"
      ]
     },
     "execution_count": 257,
     "metadata": {},
     "output_type": "execute_result"
    },
    {
     "data": {
      "image/png": "[encoded data removed]",
      "text/plain": [
       "<Figure size 360x360 with 2 Axes>"
      ]
     },
     "metadata": {
      "needs_background": "light"
     },
     "output_type": "display_data"
    }
   ],
   "source": [
    "import seaborn as sn\n",
    "import pandas as pd\n",
    "import matplotlib.pyplot as plt\n",
    "plt.figure(figsize = (5,5))\n",
    "sn.heatmap(matrix, annot=True)"
   ]
  },
  {
   "cell_type": "code",
   "execution_count": 258,
   "id": "minus-penalty",
   "metadata": {},
   "outputs": [
    {
     "data": {
      "text/plain": [
       "<AxesSubplot:>"
      ]
     },
     "execution_count": 258,
     "metadata": {},
     "output_type": "execute_result"
    },
    {
     "data": {
      "image/png": "[encoded data removed]",
      "text/plain": [
       "<Figure size 360x360 with 2 Axes>"
      ]
     },
     "metadata": {
      "needs_background": "light"
     },
     "output_type": "display_data"
    }
   ],
   "source": [
    "import seaborn as sn\n",
    "import pandas as pd\n",
    "import matplotlib.pyplot as plt\n",
    "plt.figure(figsize = (5,5))\n",
    "sn.heatmap(last_matrix, annot=True)"
   ]
  },
  {
   "cell_type": "code",
   "execution_count": null,
   "id": "knowing-apartment",
   "metadata": {},
   "outputs": [],
   "source": []
  },
  {
   "cell_type": "markdown",
   "id": "clean-basement",
   "metadata": {},
   "source": [
    "### Defining a function for prediction on a single string"
   ]
  },
  {
   "cell_type": "code",
   "execution_count": 259,
   "id": "usual-tribune",
   "metadata": {},
   "outputs": [],
   "source": [
    "def get_classifications(text):\n",
    "    '''Text preprosessing such as removal of punctuations,\n",
    "    lowering the text, tokenization, lemmetization etc will be done.\n",
    "    \n",
    "    Input: a string or text data\n",
    "    Output: Classified label of the input text\n",
    "    '''\n",
    "    text_without_punctuations=remove_punctuation(text)\n",
    "    text_lower=lower_text(text_without_punctuations)\n",
    "    list_tokens=tokenization(text_lower)\n",
    "    list_tokens_without_empty_elements=remove_empty(list_tokens)\n",
    "    list_without_stopwords=remove_stopwords(list_tokens_without_empty_elements)\n",
    "    lemetized_list=lemmatizer(list_without_stopwords)\n",
    "    preprocessed_string=join_text(lemetized_list)\n",
    "    predicted_label= text_clf.predict([preprocessed_string])\n",
    "    if predicted_label[0] == 5:\n",
    "        return 'Statistical Programming'\n",
    "    elif predicted_label[0] == 4:\n",
    "        return 'Patient Diaries'\n",
    "    elif predicted_label[0] == 3:\n",
    "        return 'Medical Writing'\n",
    "    elif predicted_label[0] == 2:\n",
    "        return 'Data Management'\n",
    "    elif predicted_label[0] == 1:\n",
    "        return 'Clinical Support'\n",
    "    else:\n",
    "        return 'Biostatistics'\n",
    "\n",
    "    "
   ]
  },
  {
   "cell_type": "markdown",
   "id": "african-comfort",
   "metadata": {},
   "source": [
    "## Some Example Predictions"
   ]
  },
  {
   "cell_type": "markdown",
   "id": "hawaiian-baghdad",
   "metadata": {},
   "source": [
    "Defining the text"
   ]
  },
  {
   "cell_type": "code",
   "execution_count": 260,
   "id": "cutting-ordering",
   "metadata": {},
   "outputs": [],
   "source": [
    "text1='ePRO is fully integrated with OpenClinicas EDC  so data managers and other study designers enjoy creating the forms in one system and in one place'"
   ]
  },
  {
   "cell_type": "code",
   "execution_count": 261,
   "id": "bibliographic-decade",
   "metadata": {},
   "outputs": [
    {
     "data": {
      "text/plain": [
       "'ePRO is fully integrated with OpenClinicas EDC  so data managers and other study designers enjoy creating the forms in one system and in one place'"
      ]
     },
     "execution_count": 261,
     "metadata": {},
     "output_type": "execute_result"
    }
   ],
   "source": [
    "text1"
   ]
  },
  {
   "cell_type": "markdown",
   "id": "progressive-mechanics",
   "metadata": {},
   "source": [
    "Function Call"
   ]
  },
  {
   "cell_type": "code",
   "execution_count": 262,
   "id": "neutral-christian",
   "metadata": {},
   "outputs": [
    {
     "data": {
      "text/plain": [
       "'Patient Diaries'"
      ]
     },
     "execution_count": 262,
     "metadata": {},
     "output_type": "execute_result"
    }
   ],
   "source": [
    "get_classifications(text1)"
   ]
  },
  {
   "cell_type": "code",
   "execution_count": 263,
   "id": "loved-thunder",
   "metadata": {},
   "outputs": [],
   "source": [
    "text2='global  biometrics  cro  statistics  programming  clinical  datamanagement  science  contract research  reporting  trial  fsp  specialist  iss  ise  cdisc  rwe  real world evidence  risk based monitoring'"
   ]
  },
  {
   "cell_type": "code",
   "execution_count": 264,
   "id": "related-demographic",
   "metadata": {},
   "outputs": [
    {
     "data": {
      "text/plain": [
       "'global  biometrics  cro  statistics  programming  clinical  datamanagement  science  contract research  reporting  trial  fsp  specialist  iss  ise  cdisc  rwe  real world evidence  risk based monitoring'"
      ]
     },
     "execution_count": 264,
     "metadata": {},
     "output_type": "execute_result"
    }
   ],
   "source": [
    "text2"
   ]
  },
  {
   "cell_type": "code",
   "execution_count": 265,
   "id": "focal-flesh",
   "metadata": {},
   "outputs": [
    {
     "data": {
      "text/plain": [
       "'Statistical Programming'"
      ]
     },
     "execution_count": 265,
     "metadata": {},
     "output_type": "execute_result"
    }
   ],
   "source": [
    "get_classifications(text2)"
   ]
  },
  {
   "cell_type": "code",
   "execution_count": 266,
   "id": "mighty-record",
   "metadata": {},
   "outputs": [],
   "source": [
    "text3='All eCS clinical trial data management services employ elluminate Data Central and Clinical Analytics'"
   ]
  },
  {
   "cell_type": "code",
   "execution_count": 267,
   "id": "polyphonic-hungarian",
   "metadata": {},
   "outputs": [
    {
     "data": {
      "text/plain": [
       "'All eCS clinical trial data management services employ elluminate Data Central and Clinical Analytics'"
      ]
     },
     "execution_count": 267,
     "metadata": {},
     "output_type": "execute_result"
    }
   ],
   "source": [
    "text3"
   ]
  },
  {
   "cell_type": "code",
   "execution_count": 268,
   "id": "sealed-seller",
   "metadata": {},
   "outputs": [
    {
     "data": {
      "text/plain": [
       "'Data Management'"
      ]
     },
     "execution_count": 268,
     "metadata": {},
     "output_type": "execute_result"
    }
   ],
   "source": [
    "get_classifications(text3)"
   ]
  },
  {
   "cell_type": "code",
   "execution_count": 269,
   "id": "northern-chile",
   "metadata": {},
   "outputs": [],
   "source": [
    "text4='Medical Writing is an integral part of clinical research and our team of specialist medical writers deliver accurate  timely  and cost effective clinical and regulatory documents to the highest quality and scientific standards '"
   ]
  },
  {
   "cell_type": "code",
   "execution_count": 270,
   "id": "classified-terminology",
   "metadata": {},
   "outputs": [
    {
     "data": {
      "text/plain": [
       "'Medical Writing is an integral part of clinical research and our team of specialist medical writers deliver accurate  timely  and cost effective clinical and regulatory documents to the highest quality and scientific standards '"
      ]
     },
     "execution_count": 270,
     "metadata": {},
     "output_type": "execute_result"
    }
   ],
   "source": [
    "text4"
   ]
  },
  {
   "cell_type": "code",
   "execution_count": 271,
   "id": "spoken-lecture",
   "metadata": {},
   "outputs": [
    {
     "data": {
      "text/plain": [
       "'Medical Writing'"
      ]
     },
     "execution_count": 271,
     "metadata": {},
     "output_type": "execute_result"
    }
   ],
   "source": [
    "get_classifications(text4)"
   ]
  },
  {
   "cell_type": "code",
   "execution_count": null,
   "id": "legitimate-michigan",
   "metadata": {},
   "outputs": [],
   "source": []
  },
  {
   "cell_type": "code",
   "execution_count": null,
   "id": "oriental-method",
   "metadata": {},
   "outputs": [],
   "source": []
  },
  {
   "cell_type": "code",
   "execution_count": null,
   "id": "express-twins",
   "metadata": {},
   "outputs": [],
   "source": []
  },
  {
   "cell_type": "code",
   "execution_count": null,
   "id": "seventh-appeal",
   "metadata": {},
   "outputs": [],
   "source": []
  },
  {
   "cell_type": "code",
   "execution_count": null,
   "id": "indie-wound",
   "metadata": {},
   "outputs": [],
   "source": []
  },
  {
   "cell_type": "code",
   "execution_count": null,
   "id": "linear-palmer",
   "metadata": {},
   "outputs": [],
   "source": []
  }
 ],
 "metadata": {
  "kernelspec": {
   "display_name": "Python 3",
   "language": "python",
   "name": "python3"
  },
  "language_info": {
   "codemirror_mode": {
    "name": "ipython",
    "version": 3
   },
   "file_extension": ".py",
   "mimetype": "text/x-python",
   "name": "python",
   "nbconvert_exporter": "python",
   "pygments_lexer": "ipython3",
   "version": "3.6.9"
  }
 },
 "nbformat": 4,
 "nbformat_minor": 5
}
